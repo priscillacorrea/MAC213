{
 "cells": [
  {
   "cell_type": "markdown",
   "metadata": {},
   "source": [
    "# Introdução ao Python para análise de dados\n",
    "\n",
    "Neste tutorial, iremos cobrir conceitos básicos de python e alguns de seus pacotes úteis para análise de dados.\n",
    "\n",
    "## O que é Python?\n",
    "\n",
    "[Python](https://www.python.org/) e uma das linguagens de programacao mais utilizadas atualmente. Ele e conhecida por ser de fácil legibilidade.\n",
    "\n",
    "Este tutorial não tem por objetivo ser um curso completo de Python. Iremos utilizá-la apenas como uma ferramenta para analisarmos dados e vamos cobrir apenas aspectos que forem se mostrando necessários.\n",
    "\n",
    "Existem muitos [materiais](https://www.python.org/about/gettingstarted/) [excelentes](https://www.codecademy.com/learn/learn-python) [na internet](https://www.tutorialspoint.com/python/) e, se voce se interessar mais por Python, recomendamos que consulte algum deles. \n",
    "\n",
    "## Variáveis\n",
    "\n",
    "Programar em Python pode ser bastante simples.\n",
    "\n",
    "Vamos começar declarando uma variável.\n",
    "\n",
    "[Variaveis](https://pt.wikipedia.org/wiki/Vari%C3%A1vel_(programa%C3%A7%C3%A3o)) e um nome que, em computacao, se refere a um local onde iremos guardar informações.\n",
    "\n",
    "Usando algumas informacoes que coletamos [neste tutorial](https://github.com/yambanis/MAC213/blob/master/Excel/Tutoriais/Tutorial%202%20-%20Funcoes.md), vamos criar uma variavel para guardar o numero de matriculados no distrito de AGUA RASA."
   ]
  },
  {
   "cell_type": "code",
   "execution_count": 1,
   "metadata": {},
   "outputs": [],
   "source": [
    "aguaRasa = 0"
   ]
  },
  {
   "cell_type": "markdown",
   "metadata": {},
   "source": [
    "Pronto! Sua variável já está criada! Simples não?\n",
    "\n",
    "Mas nossa variável aguaRasa ainda não possui nenhuma informação dentro dela. Para isso guardar o dado em uma variável, usamos o comando de [atribuicao](https://pt.wikipedia.org/wiki/Atribui%C3%A7%C3%A3o_(computa%C3%A7%C3%A3o)), usando o símbolo de igual."
   ]
  },
  {
   "cell_type": "code",
   "execution_count": 2,
   "metadata": {},
   "outputs": [],
   "source": [
    "aguaRasa = 5578"
   ]
  },
  {
   "cell_type": "markdown",
   "metadata": {},
   "source": [
    "Dessa forma, nossa variável aguaRasa agora guarda dentro de si o valor 5578.\n",
    "\n",
    "## Funções\n",
    "\n",
    "Utilizando [funções](https://www.cs.utah.edu/~germain/PPS/Topics/functions.html) somos capazes de realizar tarefas que alguém já programou previamente, sem saber como elas funcionam!\n",
    "\n",
    "Vamos agora imprimir(mostrar na tela) o valor que guardamos na nossa variável aguaRasa. Muitas coisas estão envolvidas neste processo, como acesso à memória, controle de entrada e saída, mas utilizando a função **print()** não é necessário que saibamos fazer nenhuma dessas coisas. Basta escrever:"
   ]
  },
  {
   "cell_type": "code",
   "execution_count": 3,
   "metadata": {},
   "outputs": [
    {
     "name": "stdout",
     "output_type": "stream",
     "text": [
      "5578\n"
     ]
    }
   ],
   "source": [
    "print(aguaRasa)"
   ]
  },
  {
   "cell_type": "markdown",
   "metadata": {},
   "source": [
    "Clique no _play_ do notebook ou aperte Shift + Enter e o valor da variável aguaRasa irá aparecer na tela.\n",
    "\n",
    "Geralmente as funções tem um nome e argumentos que elas recebem. Neste caso, o nome da nossa função é _print_ e o argumento, ou o que ela recebe dentro dos seus parênteses, e o que desejamos imprimir, nesse caso a variável aguaRasa.\n",
    "\n",
    "Se quisermos imprimir a palavra Agua Rasa ao invés da variável, basta escrevermos o que desejamos imprimir entre parênteses:"
   ]
  },
  {
   "cell_type": "code",
   "execution_count": 4,
   "metadata": {},
   "outputs": [
    {
     "name": "stdout",
     "output_type": "stream",
     "text": [
      "Numero de matriculados no distrito de Agua rasa:\n",
      "5578\n"
     ]
    }
   ],
   "source": [
    "print(\"Numero de matriculados no distrito de Agua rasa:\")\n",
    "print(aguaRasa)"
   ]
  },
  {
   "cell_type": "markdown",
   "metadata": {},
   "source": [
    "## Operações simples \n",
    "\n",
    "Para realizarmos operações simples em Python, basta escrevê-las de forma bastante intuitiva.\n",
    "\n",
    "Vamos Realizar a soma dos valores dos distritos de AGUA RASA, ALTO DE PINHEIROS E ANHANGUERA.\n",
    "\n",
    "Vamos, primeiro armazenar esses dados em 3 variáveis:"
   ]
  },
  {
   "cell_type": "code",
   "execution_count": 5,
   "metadata": {},
   "outputs": [],
   "source": [
    "aRasa = 5578\n",
    "aPinheiros = 434\n",
    "anhanguera = 8813\n"
   ]
  },
  {
   "cell_type": "markdown",
   "metadata": {},
   "source": [
    "Agora vamos criar uma variável total que será a soma das três. Basta escrever:"
   ]
  },
  {
   "cell_type": "code",
   "execution_count": 6,
   "metadata": {},
   "outputs": [],
   "source": [
    "total = aRasa + aPinheiros + anhanguera"
   ]
  },
  {
   "cell_type": "markdown",
   "metadata": {},
   "source": [
    "Finalmente, vamos imprimir esse valor na tela:\n"
   ]
  },
  {
   "cell_type": "code",
   "execution_count": 7,
   "metadata": {},
   "outputs": [
    {
     "name": "stdout",
     "output_type": "stream",
     "text": [
      "14825\n"
     ]
    }
   ],
   "source": [
    "print(total)"
   ]
  },
  {
   "cell_type": "markdown",
   "metadata": {},
   "source": [
    "Para realizar outras operações matemáticas elementares, como subtracao, multiplicacao e divisao, basta escrever de modo natural, assim como fizemos para a soma."
   ]
  }
 ],
 "metadata": {
  "kernelspec": {
   "display_name": "Python 3",
   "language": "python",
   "name": "python3"
  },
  "language_info": {
   "codemirror_mode": {
    "name": "ipython",
    "version": 3
   },
   "file_extension": ".py",
   "mimetype": "text/x-python",
   "name": "python",
   "nbconvert_exporter": "python",
   "pygments_lexer": "ipython3",
   "version": "3.7.0"
  }
 },
 "nbformat": 4,
 "nbformat_minor": 2
}
