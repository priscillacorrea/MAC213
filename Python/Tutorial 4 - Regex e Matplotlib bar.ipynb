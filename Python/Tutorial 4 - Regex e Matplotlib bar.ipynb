{
 "cells": [
  {
   "cell_type": "markdown",
   "metadata": {},
   "source": [
    "## Gráfico de Barras\n",
    "\n",
    "Outro tipo de gráfico bastante utilizado é o de barras.\n",
    "\n",
    "Vamos coletar alguns dados da [Demanda por Vagas - Educação Infantil e EJA\n",
    "Serie historica da demanda por vagas](http://dados.prefeitura.sp.gov.br/dataset/demanda-por-vagas-educacao-infantil-e-eja)\n",
    "\n",
    "Primeiro, vamos importar o csv para um Data frame do Pandas."
   ]
  },
  {
   "cell_type": "code",
   "execution_count": 1,
   "metadata": {},
   "outputs": [
    {
     "ename": "ModuleNotFoundError",
     "evalue": "No module named 'pandas'",
     "output_type": "error",
     "traceback": [
      "\u001b[0;31m---------------------------------------------------------------------------\u001b[0m",
      "\u001b[0;31mModuleNotFoundError\u001b[0m                       Traceback (most recent call last)",
      "\u001b[0;32m<ipython-input-1-3e9c4793a42e>\u001b[0m in \u001b[0;36m<module>\u001b[0;34m()\u001b[0m\n\u001b[0;32m----> 1\u001b[0;31m \u001b[0;32mimport\u001b[0m \u001b[0mpandas\u001b[0m \u001b[0;32mas\u001b[0m \u001b[0mpd\u001b[0m\u001b[0;34m\u001b[0m\u001b[0m\n\u001b[0m\u001b[1;32m      2\u001b[0m \u001b[0;34m\u001b[0m\u001b[0m\n\u001b[1;32m      3\u001b[0m df = pd.read_csv('evolucaodemanda.csv' , \n\u001b[1;32m      4\u001b[0m                  sep = \";\", encoding = 'latin-1', header = 0)\n",
      "\u001b[0;31mModuleNotFoundError\u001b[0m: No module named 'pandas'"
     ]
    }
   ],
   "source": [
    "import pandas as pd\n",
    "\n",
    "df = pd.read_csv('evolucaodemanda.csv' , \n",
    "                 sep = \";\", encoding = 'latin-1', header = 0)"
   ]
  },
  {
   "cell_type": "markdown",
   "metadata": {},
   "source": [
    "Vamos supor que a série histórica de interesse é a referente ao distrito de Água Rasa. Vamos fazer um corte de nosso Data frame, para selecionar apenas as linhas referentes à Água Rasa:"
   ]
  },
  {
   "cell_type": "code",
   "execution_count": null,
   "metadata": {},
   "outputs": [],
   "source": [
    "aguaRasa = df.loc[df['DISTRITO'] == 'AGUA RASA']\n",
    "aguaRasa = aguaRasa.reset_index(drop=True)\n",
    "\n",
    "aguaRasa"
   ]
  },
  {
   "cell_type": "markdown",
   "metadata": {},
   "source": [
    "Vamos criar agora um gráfico de barras, mostrando as matrículas relativas a cada uma das categorias, no último período de que temos dados, dezembro de 2017:"
   ]
  },
  {
   "cell_type": "code",
   "execution_count": null,
   "metadata": {},
   "outputs": [],
   "source": [
    "aguaRasa2017 = aguaRasa.loc[46]\n",
    "aguaRasa2017"
   ]
  },
  {
   "cell_type": "markdown",
   "metadata": {},
   "source": [
    "Isso já está bem próximo do que desejamos, mas ainda há algumas linhas que não queremos que apareçam: as que têm zero, as que têm NaN([not a number](https://pt.wikipedia.org/wiki/NaN)) e as que têm DEM_, já que estamos avaliando apenas as matrículas."
   ]
  },
  {
   "cell_type": "code",
   "execution_count": null,
   "metadata": {},
   "outputs": [],
   "source": [
    "aguaRasa2017 = aguaRasa2017[(aguaRasa2017!=0)].dropna().drop(['DEM_CRECHE'])\n",
    "\n",
    "aguaRasa2017"
   ]
  },
  {
   "cell_type": "markdown",
   "metadata": {},
   "source": [
    "Pronto, agora nossa tabela conta apenas com valores válidos.\n",
    "\n",
    "Vamos agora criar um gráfico a partir dessa tabela."
   ]
  },
  {
   "cell_type": "code",
   "execution_count": null,
   "metadata": {},
   "outputs": [],
   "source": [
    "import numpy as np\n",
    "import matplotlib.pyplot as plt\n",
    "\n",
    "#Criar um vetor de indices\n",
    "ind = np.arange(len(aguaRasa2017.index[1:-1]))\n",
    "#Largura das barras\n",
    "width = 0.35  \n",
    "\n",
    "fig, ax = plt.subplots()\n",
    "rects1 = ax.bar(ind,height = aguaRasa2017.values[1:-1], color='SkyBlue')\n",
    "\n",
    "ax.set_ylabel('Matrículas')\n",
    "ax.set_title('Matrículas Água Rasa 2017')\n",
    "ax.set_xticks(ind)\n",
    "ax.set_xticklabels(aguaRasa2017.index[1:-1], rotation = 45, ha = 'right')\n",
    "plt.savefig('Exemplos/Matrículas Água Rasa 2017.png', dpi = 300, bbox_inches='tight')\n",
    "\n",
    "\n",
    "\n",
    "plt.show()\n"
   ]
  },
  {
   "cell_type": "markdown",
   "metadata": {},
   "source": [
    "### Série histórica da Demanda\n",
    "\n",
    "Agora que conseguimos visualizar a demanda em 2017, podemos criar um gráfico com a demanda total de Água Rasa ao longo dos anos.\n",
    "\n",
    "Vamos primeiro visualizar novamente os dados que temos na variável Água Rasa:"
   ]
  },
  {
   "cell_type": "code",
   "execution_count": null,
   "metadata": {},
   "outputs": [],
   "source": [
    "aguaRasa\n"
   ]
  },
  {
   "cell_type": "markdown",
   "metadata": {},
   "source": [
    "### Usando Regex\n",
    "\n",
    "Na coluna \"MES_ANO_REF\", temos valores que misturam palavras e números, mais difíceis de trabalhar. Para isso, vamos usar str.replace junto com uma [expressão regular](https://pt.wikipedia.org/wiki/Express%C3%A3o_regular) para remover todos os caracteres que não são números dessa coluna."
   ]
  },
  {
   "cell_type": "code",
   "execution_count": null,
   "metadata": {},
   "outputs": [],
   "source": [
    "pat = '([a-zA-Z])*\\-'\n",
    "aguaRasa.MES_ANO_REF = aguaRasa.MES_ANO_REF.str.replace( pat, '' )\n",
    "aguaRasa"
   ]
  },
  {
   "cell_type": "markdown",
   "metadata": {},
   "source": [
    "Vamos agora remover, com Regex, todas as colunas que começam com \"MAT\", já que vamos avaliar apenas a demanda."
   ]
  },
  {
   "cell_type": "code",
   "execution_count": null,
   "metadata": {},
   "outputs": [],
   "source": [
    "pat = '(^MAT)\\w+'\n",
    "aguaRasa.drop(list(df.filter(regex = pat)), axis = 1, inplace = True)\n",
    "aguaRasa"
   ]
  },
  {
   "cell_type": "markdown",
   "metadata": {},
   "source": [
    "Estamos quase lá! Vamos agora agrupar os anos pela sua média e verificar como foi a média da demanda."
   ]
  },
  {
   "cell_type": "code",
   "execution_count": null,
   "metadata": {},
   "outputs": [],
   "source": [
    "#Criar uma lista com todas as colunas contidas em AguaRasa, exceto MES_ANO_REF\n",
    "col_list= list(aguaRasa)\n",
    "col_list.remove('MES_ANO_REF')\n",
    "\n",
    "#Criar uma nova coluna Demanda, que recebe a soma das demandas daquela linha\n",
    "aguaRasa['Demanda'] = aguaRasa[col_list].sum(axis=1)\n",
    "\n",
    "#Criar um novo dataframe apenas com as colunas MES_ANO_REF e Demanda \n",
    "aguaRasaAno = aguaRasa[['MES_ANO_REF','Demanda']]\n",
    "#Renomear MES_ANO_REF para Ano\n",
    "aguaRasaAno = aguaRasaAno.rename(index=str, columns={\"MES_ANO_REF\": \"Ano\"})\n",
    "\n",
    "#Agrupar as linhas por ano e o valor da demanda ser a media daquele ano\n",
    "aguaRasaAno = aguaRasaAno.groupby(['Ano']).mean()\n",
    "\n",
    "\n",
    "aguaRasaAno"
   ]
  },
  {
   "cell_type": "markdown",
   "metadata": {},
   "source": [
    "Vamos criar gráficos, para facilitar a visualização dos dados que obtivemos:"
   ]
  },
  {
   "cell_type": "code",
   "execution_count": null,
   "metadata": {},
   "outputs": [],
   "source": [
    "fig, ax = plt.subplots()\n",
    "\n",
    "ax.set_ylabel('Demanda')\n",
    "ax.set_xlabel('Ano')\n",
    "ax.set_title('Evolução da Demanda - Água Rasa')\n",
    "ax.plot(aguaRasaAno)\n",
    "\n",
    "\n",
    "plt.savefig('Exemplos/Evolução da Demanda - Água Rasa 1', dpi = 300)"
   ]
  },
  {
   "cell_type": "markdown",
   "metadata": {},
   "source": [
    "Modificando as [propriedadas da linha](https://matplotlib.org/1.4.1/users/pyplot_tutorial.html), podemos obter muitas variações deste mesmo gráfico: "
   ]
  },
  {
   "cell_type": "code",
   "execution_count": null,
   "metadata": {},
   "outputs": [],
   "source": [
    "fig, ax = plt.subplots()\n",
    "\n",
    "ax.set_ylabel('Demanda')\n",
    "ax.set_xlabel('Ano')\n",
    "ax.set_title('Evolução da Demanda - Água Rasa')\n",
    "line, = ax.plot(aguaRasaAno)\n",
    "plt.setp(line, color='g', linewidth=2.0, ls = 'steps')\n",
    "\n",
    "\n",
    "plt.savefig('Exemplos/Evolução da Demanda - Água Rasa 2', dpi = 300)"
   ]
  },
  {
   "cell_type": "code",
   "execution_count": null,
   "metadata": {},
   "outputs": [],
   "source": [
    "fig, ax = plt.subplots()\n",
    "\n",
    "ax.set_ylabel('Demanda')\n",
    "ax.set_xlabel('Ano')\n",
    "ax.set_title('Evolução da Demanda - Água Rasa')\n",
    "line, = ax.plot(aguaRasaAno)\n",
    "plt.setp(line, color='black', linewidth=2.0, ls = ':', marker = '+')\n",
    "for i,j in zip(aguaRasaAno.index.values,list(aguaRasaAno['Demanda'])):\n",
    "    ax.annotate(str(int(j)),xy=(i, j), color = 'r')\n",
    "\n",
    "plt.savefig('Exemplos/Evolução da Demanda - Água Rasa 3', dpi = 300)"
   ]
  },
  {
   "cell_type": "markdown",
   "metadata": {},
   "source": [
    "### Mais um exemplo com Regex\n",
    "\n",
    "No exemplo do gráfico de barras, utilizamos as informações contidas no csv para criar os nomes no eixo X. Mas os nomes não estão num formato muito agradável. Recuperando esse mesmo exemplo, podemos usar Regex para modificar os textos, a fim de ficarem mais agradáveis:"
   ]
  },
  {
   "cell_type": "code",
   "execution_count": null,
   "metadata": {},
   "outputs": [],
   "source": [
    "aguaRasa2017.index = aguaRasa2017.index.str.replace( \"_\", ' ' )\n",
    "aguaRasa2017.index = aguaRasa2017.index.str.replace( \"MAT\", '' )\n",
    "aguaRasa2017\n"
   ]
  },
  {
   "cell_type": "code",
   "execution_count": null,
   "metadata": {},
   "outputs": [],
   "source": [
    "\n",
    "\n",
    "#Criar um vetor de indices\n",
    "ind = np.arange(len(aguaRasa2017.index[1:-1]))\n",
    "#Largura das barras\n",
    "width = 0.35  \n",
    "\n",
    "fig, ax = plt.subplots()\n",
    "rects1 = ax.bar(ind,height = aguaRasa2017.values[1:-1], color='SkyBlue')\n",
    "\n",
    "ax.set_ylabel('Matrículas')\n",
    "ax.set_xlabel('Séries escolares ')\n",
    "ax.set_title('Matrículas Água Rasa 2017')\n",
    "ax.set_xticks(ind)\n",
    "ax.set_xticklabels(aguaRasa2017.index[1:-1], rotation = 45, ha = 'right')\n",
    "plt.savefig('Exemplos/Matrículas Água Rasa 2017 - 2.png', dpi = 300, bbox_inches='tight')\n",
    "\n",
    "\n",
    "\n",
    "plt.show()"
   ]
  },
  {
   "cell_type": "markdown",
   "metadata": {},
   "source": [
    "## Exportar para CSV"
   ]
  },
  {
   "cell_type": "code",
   "execution_count": null,
   "metadata": {},
   "outputs": [],
   "source": []
  },
  {
   "cell_type": "code",
   "execution_count": null,
   "metadata": {},
   "outputs": [],
   "source": []
  }
 ],
 "metadata": {
  "kernelspec": {
   "display_name": "Python 3",
   "language": "python",
   "name": "python3"
  },
  "language_info": {
   "codemirror_mode": {
    "name": "ipython",
    "version": 3
   },
   "file_extension": ".py",
   "mimetype": "text/x-python",
   "name": "python",
   "nbconvert_exporter": "python",
   "pygments_lexer": "ipython3",
   "version": "3.6.6"
  }
 },
 "nbformat": 4,
 "nbformat_minor": 2
}
