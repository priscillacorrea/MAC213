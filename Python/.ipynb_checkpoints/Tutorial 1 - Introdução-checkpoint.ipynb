{
 "cells": [
  {
   "cell_type": "markdown",
   "metadata": {},
   "source": [
    "# Introdução ao Python para análise de dados\n",
    "\n",
    "Neste tutorial, iremos cobrir conceitos básicos de Python e alguns de seus pacotes úteis para análise de dados.\n",
    "\n",
    "## O que é Python?\n",
    "\n",
    "[Python](https://www.python.org/) é uma das linguagens de programação mais utilizadas atualmente. Ele é conhecida por ser de fácil legibilidade.\n",
    "\n",
    "Este tutorial não tem por objetivo ser um curso completo de Python. Iremos utilizá-lo apenas como uma ferramenta para analisarmos dados e cobrir apenas aspectos que forem se mostrando necessários.\n",
    "\n",
    "Existem muitos [materiais](https://www.python.org/about/gettingstarted/) [excelentes](https://www.codecademy.com/learn/learn-python) [na internet](https://www.tutorialspoint.com/python/) e, se você se interessar mais por Python, recomendamos que consulte alguns deles. \n",
    "\n",
    "## Variáveis\n",
    "\n",
    "Programar em Python pode ser bastante simples.\n",
    "\n",
    "Vamos começar declarando uma variável.\n",
    "\n",
    "[Variaveis](https://pt.wikipedia.org/wiki/Vari%C3%A1vel_(programa%C3%A7%C3%A3o)) é um nome que, em computação, refere-se a um local onde iremos guardar informações.\n",
    "\n",
    "Usando algumas informações que coletamos [neste tutorial](https://github.com/yambanis/MAC213/blob/master/Excel/Tutoriais/Tutorial%202%20-%20Funcoes.md), vamos criar uma variável para guardar o número de matriculados no distrito de Água Rasa."
   ]
  },
  {
   "cell_type": "code",
   "execution_count": 1,
   "metadata": {},
   "outputs": [],
   "source": [
    "aguaRasa = 0"
   ]
  },
  {
   "cell_type": "markdown",
   "metadata": {},
   "source": [
    "Pronto! Sua variável já está criada! Simples, não?\n",
    "\n",
    "Mas nossa variável aguaRasa ainda não possui nenhuma informação. Para guardar dados em uma variável, usamos o comando de [atribuição](https://pt.wikipedia.org/wiki/Atribui%C3%A7%C3%A3o_(computa%C3%A7%C3%A3o)), usando o símbolo de igual."
   ]
  },
  {
   "cell_type": "code",
   "execution_count": 2,
   "metadata": {},
   "outputs": [],
   "source": [
    "aguaRasa = 5578"
   ]
  },
  {
   "cell_type": "markdown",
   "metadata": {},
   "source": [
    "Dessa forma, nossa variável aguaRasa agora guarda dentro de si o valor 5578.\n",
    "\n",
    "## Funções\n",
    "\n",
    "Utilizando [funções](https://www.cs.utah.edu/~germain/PPS/Topics/functions.html), somos capazes de realizar tarefas que alguém já programou previamente, sem saber como elas funcionam!\n",
    "\n",
    "Vamos agora imprimir (mostrar na tela) o valor que guardamos na nossa variável aguaRasa. Muitas coisas estão envolvidas neste processo, como acesso à memória, controle de entrada e saída, mas, utilizando a função **print()**, não é necessário que saibamos fazer nenhuma dessas coisas. Basta escrever:"
   ]
  },
  {
   "cell_type": "code",
   "execution_count": 3,
   "metadata": {},
   "outputs": [
    {
     "name": "stdout",
     "output_type": "stream",
     "text": [
      "5578\n"
     ]
    }
   ],
   "source": [
    "print(aguaRasa)"
   ]
  },
  {
   "cell_type": "markdown",
   "metadata": {},
   "source": [
    "Clique no _play_ do notebook ou aperte Shift + Enter e o valor da variável aguaRasa irá aparecer na tela.\n",
    "\n",
    "Geralmente as funções têm um nome e argumentos que elas recebem. Nesse caso, o nome da nossa função é _print_ e o argumento, ou o que ela recebe dentro dos seus parênteses, é o que desejamos imprimir: nesse caso, a variável aguaRasa.\n",
    "\n",
    "Se quisermos imprimir a palavra Água Rasa ao invés da variável, basta escrevermos o que desejamos imprimir entre aspas, dentro dos parênteses:"
   ]
  },
  {
   "cell_type": "code",
   "execution_count": 4,
   "metadata": {},
   "outputs": [
    {
     "name": "stdout",
     "output_type": "stream",
     "text": [
      "Numero de matriculados no distrito de Agua rasa:\n",
      "5578\n"
     ]
    }
   ],
   "source": [
    "print(\"Numero de matriculados no distrito de Agua rasa:\")\n",
    "print(aguaRasa)"
   ]
  },
  {
   "cell_type": "markdown",
   "metadata": {},
   "source": [
    "## Operações simples \n",
    "\n",
    "Para realizarmos operações simples em Python, basta escrevê-las de forma bastante intuitiva.\n",
    "\n",
    "Vamos realizar a soma dos valores dos distritos de Água Rasa, Alto de Pinheiros e Anhanguera.\n",
    "\n",
    "Primeiro, vamos armazenar esses dados em 3 variáveis:"
   ]
  },
  {
   "cell_type": "code",
   "execution_count": 5,
   "metadata": {},
   "outputs": [],
   "source": [
    "aRasa = 5578\n",
    "aPinheiros = 434\n",
    "anhanguera = 8813\n"
   ]
  },
  {
   "cell_type": "markdown",
   "metadata": {},
   "source": [
    "Agora, vamos criar uma variável total, que será a soma das três. Basta escrever:"
   ]
  },
  {
   "cell_type": "code",
   "execution_count": 6,
   "metadata": {},
   "outputs": [],
   "source": [
    "total = aRasa + aPinheiros + anhanguera"
   ]
  },
  {
   "cell_type": "markdown",
   "metadata": {},
   "source": [
    "Finalmente, vamos imprimir esse valor na tela:\n"
   ]
  },
  {
   "cell_type": "code",
   "execution_count": 7,
   "metadata": {},
   "outputs": [
    {
     "name": "stdout",
     "output_type": "stream",
     "text": [
      "14825\n"
     ]
    }
   ],
   "source": [
    "print(total)"
   ]
  },
  {
   "cell_type": "markdown",
   "metadata": {},
   "source": [
    "Para realizar outras operações matemáticas elementares, como subtração, multiplicação e divisão, basta escrever de modo natural, assim como fizemos para a soma."
   ]
  }
 ],
 "metadata": {
  "kernelspec": {
   "display_name": "Python 3",
   "language": "python",
   "name": "python3"
  },
  "language_info": {
   "codemirror_mode": {
    "name": "ipython",
    "version": 3
   },
   "file_extension": ".py",
   "mimetype": "text/x-python",
   "name": "python",
   "nbconvert_exporter": "python",
   "pygments_lexer": "ipython3",
   "version": "3.7.0"
  }
 },
 "nbformat": 4,
 "nbformat_minor": 2
}
